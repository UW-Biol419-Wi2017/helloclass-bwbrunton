{
 "cells": [
  {
   "cell_type": "code",
   "execution_count": null,
   "metadata": {
    "collapsed": true
   },
   "outputs": [],
   "source": [
    "# Your mission:\n",
    "# -fork this code to your own repository\n",
    "# -try running the code in Jupyter\n",
    "# -edit the code to produce the desired output \n",
    "# -add comments to describe the purpose of each step\n",
    "# -save your code\n",
    "# -commit the changes in GitHub\n",
    "# -submit a pull request to merge your altered code to the source repository\n",
    "# -Cooper will comment on the pull request to give you feedback"
   ]
  },
  {
   "cell_type": "code",
   "execution_count": null,
   "metadata": {
    "collapsed": true
   },
   "outputs": [],
   "source": [
    "# Code goal: create a 3x4 matrix with the following values\n",
    "# Row one: the first four digits of pi, without the decimal point\n",
    "# Row two: the digits of pi multiplied by 4 (multiply pi by 4 and then assign the digits to the matrix)\n",
    "# Row three: the first four digits of e, without the decimal point\n",
    "# Row four: the digits of e divided by 3 (divide each individual digit by 3 and assign to the matrix)"
   ]
  },
  {
   "cell_type": "code",
   "execution_count": null,
   "metadata": {
    "collapsed": false
   },
   "outputs": [],
   "source": [
    "math.pi"
   ]
  },
  {
   "cell_type": "code",
   "execution_count": null,
   "metadata": {
    "collapsed": false
   },
   "outputs": [],
   "source": [
    "math.e"
   ]
  },
  {
   "cell_type": "code",
   "execution_count": null,
   "metadata": {
    "collapsed": false
   },
   "outputs": [],
   "source": [
    "Pi=math.pi\n",
    "digitsOfPi=str(Pi)\n",
    "a=digitsOfPi[0]\n",
    "b=digitsOfPi[2]\n",
    "c=digitsOfPi[3]\n",
    "d=digitsOfPi[4]\n",
    "import numpy as np\n",
    "firstRow=np.array([a,b,c,d])\n",
    "firstRow"
   ]
  },
  {
   "cell_type": "code",
   "execution_count": null,
   "metadata": {
    "collapsed": false
   },
   "outputs": [],
   "source": [
    "Euler=math.e\n",
    "digitsOfEuler=str(Euler)\n",
    "a2=digitsOfEuler[0]\n",
    "b2=digitsOfEuler[2]\n",
    "c2=digitsOfEuler[3]\n",
    "d2=digitsOfEuler[4]\n",
    "secondRow=np.array([a2,b2,c2,d2])\n",
    "secondRow"
   ]
  },
  {
   "cell_type": "code",
   "execution_count": null,
   "metadata": {
    "collapsed": false
   },
   "outputs": [],
   "source": [
    "y = secondRow.astype(np.int)\n",
    "y*4"
   ]
  },
  {
   "cell_type": "code",
   "execution_count": null,
   "metadata": {
    "collapsed": false
   },
   "outputs": [],
   "source": [
    "FourTimesPi=(Pi*4)\n",
    "digits4Pi=str(FourTimesPi)\n",
    "a1=digits4Pi[0]\n",
    "b1=digits4Pi[2]\n",
    "c1=digits4Pi[3]\n",
    "d1=digits4Pi[4]\n",
    "thirdRow=np.array([a1,b1,c1,d1])"
   ]
  },
  {
   "cell_type": "code",
   "execution_count": null,
   "metadata": {
    "collapsed": false
   },
   "outputs": [],
   "source": [
    "y = secondRow.astype(np.int)\n",
    "digitsOfY=str(y)\n",
    "a3=digitsOfY[0]\n",
    "b3=digitsOfY[2]\n",
    "c3=digitsOfY[3]\n",
    "d3=digitsOfY[4]\n",
    "fourthRow=np.array([a3,b3,c3,d3])"
   ]
  },
  {
   "cell_type": "code",
   "execution_count": null,
   "metadata": {
    "collapsed": false
   },
   "outputs": [],
   "source": [
    "CombinedMatrix=np.vstack((firstRow,secondRow,thirdRow,fourthRow))\n",
    "CombinedMatrix"
   ]
  },
  {
   "cell_type": "code",
   "execution_count": null,
   "metadata": {
    "collapsed": false
   },
   "outputs": [],
   "source": [
    "FinalMatrix = CombinedMatrix.astype(np.int)\n",
    "FinalMattrix"
   ]
  },
  {
   "cell_type": "code",
   "execution_count": null,
   "metadata": {
    "collapsed": false
   },
   "outputs": [],
   "source": []
  },
  {
   "cell_type": "code",
   "execution_count": null,
   "metadata": {
    "collapsed": false
   },
   "outputs": [],
   "source": []
  },
  {
   "cell_type": "code",
   "execution_count": null,
   "metadata": {
    "collapsed": true
   },
   "outputs": [],
   "source": []
  }
 ],
 "metadata": {
  "kernelspec": {
   "display_name": "Python [conda root]",
   "language": "python",
   "name": "conda-root-py"
  },
  "language_info": {
   "codemirror_mode": {
    "name": "ipython",
    "version": 3
   },
   "file_extension": ".py",
   "mimetype": "text/x-python",
   "name": "python",
   "nbconvert_exporter": "python",
   "pygments_lexer": "ipython3",
   "version": "3.5.2"
  }
 },
 "nbformat": 4,
 "nbformat_minor": 1
}
